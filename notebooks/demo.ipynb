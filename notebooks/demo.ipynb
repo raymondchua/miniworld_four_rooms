{
 "nbformat": 4,
 "nbformat_minor": 0,
 "metadata": {
  "colab": {
   "provenance": []
  },
  "kernelspec": {
   "name": "python3",
   "display_name": "Python 3"
  },
  "language_info": {
   "name": "python"
  }
 },
 "cells": [
  {
   "cell_type": "code",
   "execution_count": 1,
   "metadata": {
    "colab": {
     "base_uri": "https://localhost:8080/"
    },
    "id": "-30UviI6_mva",
    "outputId": "4d120424-9c9c-44f3-ce9c-42fe3bf9ec8c"
   },
   "outputs": [
    {
     "output_type": "stream",
     "name": "stdout",
     "text": [
      "Found existing installation: gym-miniworld 0.1.0\n",
      "Uninstalling gym-miniworld-0.1.0:\n",
      "  Successfully uninstalled gym-miniworld-0.1.0\n",
      "Files removed: 12 (2.6 MB)\n",
      "Collecting git+https://github.com/raymondchua/miniworld_four_rooms.git\n",
      "  Cloning https://github.com/raymondchua/miniworld_four_rooms.git to /tmp/pip-req-build-r_xe23b9\n",
      "  Running command git clone --filter=blob:none --quiet https://github.com/raymondchua/miniworld_four_rooms.git /tmp/pip-req-build-r_xe23b9\n",
      "  Resolved https://github.com/raymondchua/miniworld_four_rooms.git to commit 29ed7ef990460c376e26768e59549a2dba877d09\n",
      "  Installing build dependencies ... \u001B[?25l\u001B[?25hdone\n",
      "  Getting requirements to build wheel ... \u001B[?25l\u001B[?25hdone\n",
      "  Preparing metadata (pyproject.toml) ... \u001B[?25l\u001B[?25hdone\n",
      "Requirement already satisfied: numpy in /usr/local/lib/python3.11/dist-packages (from gym-miniworld==0.1.0) (2.0.2)\n",
      "Requirement already satisfied: pyglet==1.5.27 in /usr/local/lib/python3.11/dist-packages (from gym-miniworld==0.1.0) (1.5.27)\n",
      "Requirement already satisfied: gym in /usr/local/lib/python3.11/dist-packages (from gym-miniworld==0.1.0) (0.25.2)\n",
      "Requirement already satisfied: cloudpickle>=1.2.0 in /usr/local/lib/python3.11/dist-packages (from gym->gym-miniworld==0.1.0) (3.1.1)\n",
      "Requirement already satisfied: gym-notices>=0.0.4 in /usr/local/lib/python3.11/dist-packages (from gym->gym-miniworld==0.1.0) (0.0.8)\n",
      "Building wheels for collected packages: gym-miniworld\n",
      "  Building wheel for gym-miniworld (pyproject.toml) ... \u001B[?25l\u001B[?25hdone\n",
      "  Created wheel for gym-miniworld: filename=gym_miniworld-0.1.0-py3-none-any.whl size=41699824 sha256=dff69362905c8b96d51b9af66dfd337dd2d6e841dded66b40a95e27b679585ba\n",
      "  Stored in directory: /tmp/pip-ephem-wheel-cache-3ymmq46m/wheels/cd/b8/c8/a09ac49ceaba3b8d81c9431be00293c127392e96c7dc20cb3a\n",
      "Successfully built gym-miniworld\n",
      "Installing collected packages: gym-miniworld\n",
      "Successfully installed gym-miniworld-0.1.0\n"
     ]
    }
   ],
   "source": "!pip install --no-cache-dir git+https://github.com/raymondchua/miniworld_four_rooms.git",
   "id": "3bddfcaf4712295d"
  },
  {
   "cell_type": "code",
   "source": [
    "!apt-get update -qq\n",
    "!apt-get install -y xvfb libgl1-mesa-glx libosmesa6\n",
    "!pip install pyvirtualdisplay\n",
    "!apt-get install -y libglu1-mesa freeglut3-dev mesa-utils"
   ],
   "metadata": {
    "colab": {
     "base_uri": "https://localhost:8080/"
    },
    "id": "PYinS9I0APPu",
    "outputId": "0f04d4c7-4353-4be9-f10f-97b6c7b0ad63"
   },
   "execution_count": 16,
   "outputs": [
    {
     "output_type": "stream",
     "name": "stdout",
     "text": [
      "W: Skipping acquire of configured file 'main/source/Sources' as repository 'https://r2u.stat.illinois.edu/ubuntu jammy InRelease' does not seem to provide it (sources.list entry misspelt?)\n",
      "Reading package lists... Done\n",
      "Building dependency tree... Done\n",
      "Reading state information... Done\n",
      "libosmesa6 is already the newest version (23.2.1-1ubuntu3.1~22.04.3).\n",
      "libgl1-mesa-glx is already the newest version (23.0.4-0ubuntu1~22.04.1).\n",
      "xvfb is already the newest version (2:21.1.4-2ubuntu1.7~22.04.14).\n",
      "0 upgraded, 0 newly installed, 0 to remove and 89 not upgraded.\n",
      "Requirement already satisfied: pyvirtualdisplay in /usr/local/lib/python3.11/dist-packages (3.0)\n",
      "Reading package lists... Done\n",
      "Building dependency tree... Done\n",
      "Reading state information... Done\n",
      "The following additional packages will be installed:\n",
      "  freeglut3 libegl-dev libgl-dev libgl1-mesa-dev libgles-dev libgles1\n",
      "  libglu1-mesa-dev libglvnd-core-dev libglvnd-dev libglx-dev libopengl-dev\n",
      "  libxt-dev mesa-utils-bin\n",
      "Suggested packages:\n",
      "  libxt-doc\n",
      "The following NEW packages will be installed:\n",
      "  freeglut3 freeglut3-dev libegl-dev libgl-dev libgl1-mesa-dev libgles-dev\n",
      "  libgles1 libglu1-mesa libglu1-mesa-dev libglvnd-core-dev libglvnd-dev\n",
      "  libglx-dev libopengl-dev libxt-dev mesa-utils mesa-utils-bin\n",
      "0 upgraded, 16 newly installed, 0 to remove and 89 not upgraded.\n",
      "Need to get 2,311 kB of archives.\n",
      "After this operation, 8,893 kB of additional disk space will be used.\n",
      "Get:1 http://archive.ubuntu.com/ubuntu jammy/universe amd64 freeglut3 amd64 2.8.1-6 [74.0 kB]\n",
      "Get:2 http://archive.ubuntu.com/ubuntu jammy/main amd64 libglx-dev amd64 1.4.0-1 [14.1 kB]\n",
      "Get:3 http://archive.ubuntu.com/ubuntu jammy/main amd64 libgl-dev amd64 1.4.0-1 [101 kB]\n",
      "Get:4 http://archive.ubuntu.com/ubuntu jammy/main amd64 libglvnd-core-dev amd64 1.4.0-1 [12.7 kB]\n",
      "Get:5 http://archive.ubuntu.com/ubuntu jammy/main amd64 libegl-dev amd64 1.4.0-1 [18.0 kB]\n",
      "Get:6 http://archive.ubuntu.com/ubuntu jammy/main amd64 libgles1 amd64 1.4.0-1 [11.5 kB]\n",
      "Get:7 http://archive.ubuntu.com/ubuntu jammy/main amd64 libgles-dev amd64 1.4.0-1 [49.4 kB]\n",
      "Get:8 http://archive.ubuntu.com/ubuntu jammy/main amd64 libopengl-dev amd64 1.4.0-1 [3,400 B]\n",
      "Get:9 http://archive.ubuntu.com/ubuntu jammy/main amd64 libglvnd-dev amd64 1.4.0-1 [3,162 B]\n",
      "Get:10 http://archive.ubuntu.com/ubuntu jammy-updates/main amd64 libgl1-mesa-dev amd64 23.2.1-1ubuntu3.1~22.04.3 [6,848 B]\n",
      "Get:11 http://archive.ubuntu.com/ubuntu jammy/main amd64 libglu1-mesa amd64 9.0.2-1 [145 kB]\n",
      "Get:12 http://archive.ubuntu.com/ubuntu jammy/main amd64 libglu1-mesa-dev amd64 9.0.2-1 [231 kB]\n",
      "Get:13 http://archive.ubuntu.com/ubuntu jammy/main amd64 libxt-dev amd64 1:1.2.1-1 [396 kB]\n",
      "Get:14 http://archive.ubuntu.com/ubuntu jammy/universe amd64 freeglut3-dev amd64 2.8.1-6 [126 kB]\n",
      "Get:15 http://archive.ubuntu.com/ubuntu jammy/universe amd64 mesa-utils-bin amd64 8.4.0-1ubuntu1 [53.8 kB]\n",
      "Get:16 http://archive.ubuntu.com/ubuntu jammy/universe amd64 mesa-utils amd64 8.4.0-1ubuntu1 [1,065 kB]\n",
      "Fetched 2,311 kB in 0s (8,695 kB/s)\n",
      "Selecting previously unselected package freeglut3:amd64.\n",
      "(Reading database ... 126112 files and directories currently installed.)\n",
      "Preparing to unpack .../00-freeglut3_2.8.1-6_amd64.deb ...\n",
      "Unpacking freeglut3:amd64 (2.8.1-6) ...\n",
      "Selecting previously unselected package libglx-dev:amd64.\n",
      "Preparing to unpack .../01-libglx-dev_1.4.0-1_amd64.deb ...\n",
      "Unpacking libglx-dev:amd64 (1.4.0-1) ...\n",
      "Selecting previously unselected package libgl-dev:amd64.\n",
      "Preparing to unpack .../02-libgl-dev_1.4.0-1_amd64.deb ...\n",
      "Unpacking libgl-dev:amd64 (1.4.0-1) ...\n",
      "Selecting previously unselected package libglvnd-core-dev:amd64.\n",
      "Preparing to unpack .../03-libglvnd-core-dev_1.4.0-1_amd64.deb ...\n",
      "Unpacking libglvnd-core-dev:amd64 (1.4.0-1) ...\n",
      "Selecting previously unselected package libegl-dev:amd64.\n",
      "Preparing to unpack .../04-libegl-dev_1.4.0-1_amd64.deb ...\n",
      "Unpacking libegl-dev:amd64 (1.4.0-1) ...\n",
      "Selecting previously unselected package libgles1:amd64.\n",
      "Preparing to unpack .../05-libgles1_1.4.0-1_amd64.deb ...\n",
      "Unpacking libgles1:amd64 (1.4.0-1) ...\n",
      "Selecting previously unselected package libgles-dev:amd64.\n",
      "Preparing to unpack .../06-libgles-dev_1.4.0-1_amd64.deb ...\n",
      "Unpacking libgles-dev:amd64 (1.4.0-1) ...\n",
      "Selecting previously unselected package libopengl-dev:amd64.\n",
      "Preparing to unpack .../07-libopengl-dev_1.4.0-1_amd64.deb ...\n",
      "Unpacking libopengl-dev:amd64 (1.4.0-1) ...\n",
      "Selecting previously unselected package libglvnd-dev:amd64.\n",
      "Preparing to unpack .../08-libglvnd-dev_1.4.0-1_amd64.deb ...\n",
      "Unpacking libglvnd-dev:amd64 (1.4.0-1) ...\n",
      "Selecting previously unselected package libgl1-mesa-dev:amd64.\n",
      "Preparing to unpack .../09-libgl1-mesa-dev_23.2.1-1ubuntu3.1~22.04.3_amd64.deb ...\n",
      "Unpacking libgl1-mesa-dev:amd64 (23.2.1-1ubuntu3.1~22.04.3) ...\n",
      "Selecting previously unselected package libglu1-mesa:amd64.\n",
      "Preparing to unpack .../10-libglu1-mesa_9.0.2-1_amd64.deb ...\n",
      "Unpacking libglu1-mesa:amd64 (9.0.2-1) ...\n",
      "Selecting previously unselected package libglu1-mesa-dev:amd64.\n",
      "Preparing to unpack .../11-libglu1-mesa-dev_9.0.2-1_amd64.deb ...\n",
      "Unpacking libglu1-mesa-dev:amd64 (9.0.2-1) ...\n",
      "Selecting previously unselected package libxt-dev:amd64.\n",
      "Preparing to unpack .../12-libxt-dev_1%3a1.2.1-1_amd64.deb ...\n",
      "Unpacking libxt-dev:amd64 (1:1.2.1-1) ...\n",
      "Selecting previously unselected package freeglut3-dev:amd64.\n",
      "Preparing to unpack .../13-freeglut3-dev_2.8.1-6_amd64.deb ...\n",
      "Unpacking freeglut3-dev:amd64 (2.8.1-6) ...\n",
      "Selecting previously unselected package mesa-utils-bin:amd64.\n",
      "Preparing to unpack .../14-mesa-utils-bin_8.4.0-1ubuntu1_amd64.deb ...\n",
      "Unpacking mesa-utils-bin:amd64 (8.4.0-1ubuntu1) ...\n",
      "Selecting previously unselected package mesa-utils.\n",
      "Preparing to unpack .../15-mesa-utils_8.4.0-1ubuntu1_amd64.deb ...\n",
      "Unpacking mesa-utils (8.4.0-1ubuntu1) ...\n",
      "Setting up freeglut3:amd64 (2.8.1-6) ...\n",
      "Setting up libglvnd-core-dev:amd64 (1.4.0-1) ...\n",
      "Setting up mesa-utils-bin:amd64 (8.4.0-1ubuntu1) ...\n",
      "Setting up libxt-dev:amd64 (1:1.2.1-1) ...\n",
      "Setting up libgles1:amd64 (1.4.0-1) ...\n",
      "Setting up libglx-dev:amd64 (1.4.0-1) ...\n",
      "Setting up libglu1-mesa:amd64 (9.0.2-1) ...\n",
      "Setting up libopengl-dev:amd64 (1.4.0-1) ...\n",
      "Setting up libgl-dev:amd64 (1.4.0-1) ...\n",
      "Setting up libegl-dev:amd64 (1.4.0-1) ...\n",
      "Setting up mesa-utils (8.4.0-1ubuntu1) ...\n",
      "Setting up libglu1-mesa-dev:amd64 (9.0.2-1) ...\n",
      "Setting up libgles-dev:amd64 (1.4.0-1) ...\n",
      "Setting up libglvnd-dev:amd64 (1.4.0-1) ...\n",
      "Setting up libgl1-mesa-dev:amd64 (23.2.1-1ubuntu3.1~22.04.3) ...\n",
      "Setting up freeglut3-dev:amd64 (2.8.1-6) ...\n",
      "Processing triggers for man-db (2.10.2-1) ...\n",
      "Processing triggers for libc-bin (2.35-0ubuntu3.8) ...\n",
      "/sbin/ldconfig.real: /usr/local/lib/libumf.so.0 is not a symbolic link\n",
      "\n",
      "/sbin/ldconfig.real: /usr/local/lib/libtcm_debug.so.1 is not a symbolic link\n",
      "\n",
      "/sbin/ldconfig.real: /usr/local/lib/libtbbbind.so.3 is not a symbolic link\n",
      "\n",
      "/sbin/ldconfig.real: /usr/local/lib/libhwloc.so.15 is not a symbolic link\n",
      "\n",
      "/sbin/ldconfig.real: /usr/local/lib/libtbbbind_2_5.so.3 is not a symbolic link\n",
      "\n",
      "/sbin/ldconfig.real: /usr/local/lib/libtbb.so.12 is not a symbolic link\n",
      "\n",
      "/sbin/ldconfig.real: /usr/local/lib/libur_adapter_level_zero.so.0 is not a symbolic link\n",
      "\n",
      "/sbin/ldconfig.real: /usr/local/lib/libtbbmalloc.so.2 is not a symbolic link\n",
      "\n",
      "/sbin/ldconfig.real: /usr/local/lib/libtbbbind_2_0.so.3 is not a symbolic link\n",
      "\n",
      "/sbin/ldconfig.real: /usr/local/lib/libtcm.so.1 is not a symbolic link\n",
      "\n",
      "/sbin/ldconfig.real: /usr/local/lib/libur_adapter_opencl.so.0 is not a symbolic link\n",
      "\n",
      "/sbin/ldconfig.real: /usr/local/lib/libtbbmalloc_proxy.so.2 is not a symbolic link\n",
      "\n",
      "/sbin/ldconfig.real: /usr/local/lib/libur_loader.so.0 is not a symbolic link\n",
      "\n"
     ]
    }
   ],
   "id": "f20a4b37006e0edf"
  },
  {
   "cell_type": "code",
   "source": [
    "from pyvirtualdisplay import Display\n",
    "Display(visible=0, size=(1024, 768)).start()"
   ],
   "metadata": {
    "colab": {
     "base_uri": "https://localhost:8080/"
    },
    "id": "dyJoYnpSAR-Q",
    "outputId": "3533ec92-737a-440e-9047-83f0ac94eb76"
   },
   "execution_count": 17,
   "outputs": [
    {
     "output_type": "execute_result",
     "data": {
      "text/plain": [
       "<pyvirtualdisplay.display.Display at 0x7fca9435d210>"
      ]
     },
     "metadata": {},
     "execution_count": 17
    }
   ],
   "id": "5aac9cc385101ae4"
  },
  {
   "cell_type": "code",
   "source": [
    "import gym\n",
    "import gym_miniworld  # This registers the environments\n",
    "import gym_miniworld.envs"
   ],
   "metadata": {
    "id": "RHzBi0mEAZVQ"
   },
   "execution_count": 18,
   "outputs": [],
   "id": "9d3f38731c54769"
  },
  {
   "cell_type": "code",
   "source": [
    "# List all registered MiniWorld environments\n",
    "miniworld_envs = [env.id for env in gym.envs.registry.values() if \"MiniWorld\" in env.id]\n",
    "for env in miniworld_envs:\n",
    "    print(\"  -\", env)"
   ],
   "metadata": {
    "colab": {
     "base_uri": "https://localhost:8080/"
    },
    "id": "RkJR5h6EAb0y",
    "outputId": "57900589-3ead-48a8-817a-a60389b787c2"
   },
   "execution_count": 19,
   "outputs": [
    {
     "output_type": "stream",
     "name": "stdout",
     "text": [
      "  - MiniWorld-FourRooms-v0\n",
      "  - MiniWorld-FourRoomsActions-v0\n",
      "  - MiniWorld-FourRoomsFlippedTextures-v0\n",
      "  - MiniWorld-FourRoomsFlippedTexturesActions-v0\n",
      "  - MiniWorld-FourRoomsFlippedTexturesTask1-v0\n",
      "  - MiniWorld-FourRoomsFlippedTexturesTask2-v0\n",
      "  - MiniWorld-FourRoomsFlippedTexturesTwoTasks-v0\n",
      "  - MiniWorld-FourRoomsLeftStartRoomBottomLeft-v0\n",
      "  - MiniWorld-FourRoomsLeftStartRoomBottomLeftActions-v0\n",
      "  - MiniWorld-FourRoomsLeftStartRoomBottomLeftSize2Task1-v0\n",
      "  - MiniWorld-FourRoomsLeftStartRoomBottomLeftSize2Task2-v0\n",
      "  - MiniWorld-FourRoomsLeftStartRoomBottomLeftSize3Task1-v0\n",
      "  - MiniWorld-FourRoomsLeftStartRoomBottomLeftSize3Task2-v0\n",
      "  - MiniWorld-FourRoomsLeftStartRoomBottomLeftTask1-v0\n",
      "  - MiniWorld-FourRoomsLeftStartRoomBottomLeftTask2-v0\n",
      "  - MiniWorld-FourRoomsLeftStartRoomBottomLeftTwoTasks-v0\n",
      "  - MiniWorld-FourRoomsMini-v0\n",
      "  - MiniWorld-FourRoomsMiniActions-v0\n",
      "  - MiniWorld-FourRoomsMiniTask1-v0\n",
      "  - MiniWorld-FourRoomsMiniTask2-v0\n",
      "  - MiniWorld-FourRoomsMiniTwoTasks-v0\n",
      "  - MiniWorld-FourRoomsNoBottom-v0\n",
      "  - MiniWorld-FourRoomsNoBottomActions-v0\n",
      "  - MiniWorld-FourRoomsNoBottomSize2Task1-v0\n",
      "  - MiniWorld-FourRoomsNoBottomSize2Task2-v0\n",
      "  - MiniWorld-FourRoomsNoBottomSize3Task1-v0\n",
      "  - MiniWorld-FourRoomsNoBottomSize3Task2-v0\n",
      "  - MiniWorld-FourRoomsNoBottomStartRoomBottomLeft-v0\n",
      "  - MiniWorld-FourRoomsNoBottomStartRoomBottomLeftActions-v0\n",
      "  - MiniWorld-FourRoomsNoBottomStartRoomBottomLeftSize2Task1-v0\n",
      "  - MiniWorld-FourRoomsNoBottomStartRoomBottomLeftSize2Task2-v0\n",
      "  - MiniWorld-FourRoomsNoBottomStartRoomBottomLeftSize3Task1-v0\n",
      "  - MiniWorld-FourRoomsNoBottomStartRoomBottomLeftSize3Task2-v0\n",
      "  - MiniWorld-FourRoomsNoBottomStartRoomBottomLeftTask1-v0\n",
      "  - MiniWorld-FourRoomsNoBottomStartRoomBottomLeftTask2-v0\n",
      "  - MiniWorld-FourRoomsNoBottomStartRoomBottomLeftTwoTasks-v0\n",
      "  - MiniWorld-FourRoomsNoBottomStartRoomTopLeft-v0\n",
      "  - MiniWorld-FourRoomsNoBottomStartRoomTopLeftActions-v0\n",
      "  - MiniWorld-FourRoomsNoBottomStartRoomTopLeftSize2Task1-v0\n",
      "  - MiniWorld-FourRoomsNoBottomStartRoomTopLeftSize2Task2-v0\n",
      "  - MiniWorld-FourRoomsNoBottomStartRoomTopLeftSize3Task1-v0\n",
      "  - MiniWorld-FourRoomsNoBottomStartRoomTopLeftSize3Task2-v0\n",
      "  - MiniWorld-FourRoomsNoBottomStartRoomTopLeftTask1-v0\n",
      "  - MiniWorld-FourRoomsNoBottomStartRoomTopLeftTask2-v0\n",
      "  - MiniWorld-FourRoomsNoBottomStartRoomTopLeftTwoTasks-v0\n",
      "  - MiniWorld-FourRoomsNoBottomTask1-v0\n",
      "  - MiniWorld-FourRoomsNoBottomTask2-v0\n",
      "  - MiniWorld-FourRoomsNoBottomTwoTasks-v0\n",
      "  - MiniWorld-FourRoomsNoLeft-v0\n",
      "  - MiniWorld-FourRoomsNoLeftActions-v0\n",
      "  - MiniWorld-FourRoomsNoLeftSize2Task1-v0\n",
      "  - MiniWorld-FourRoomsNoLeftSize2Task2-v0\n",
      "  - MiniWorld-FourRoomsNoLeftSize3Task1-v0\n",
      "  - MiniWorld-FourRoomsNoLeftSize3Task2-v0\n",
      "  - MiniWorld-FourRoomsNoLeftTask1-v0\n",
      "  - MiniWorld-FourRoomsNoLeftTask2-v0\n",
      "  - MiniWorld-FourRoomsNoLeftTwoTasks-v0\n",
      "  - MiniWorld-FourRoomsNoTop-v0\n",
      "  - MiniWorld-FourRoomsNoTopActions-v0\n",
      "  - MiniWorld-FourRoomsNoTopSize2Task1-v0\n",
      "  - MiniWorld-FourRoomsNoTopSize2Task2-v0\n",
      "  - MiniWorld-FourRoomsNoTopSize3Task1-v0\n",
      "  - MiniWorld-FourRoomsNoTopSize3Task2-v0\n",
      "  - MiniWorld-FourRoomsNoTopStartRoomTopLeft-v0\n",
      "  - MiniWorld-FourRoomsNoTopStartRoomTopLeftActions-v0\n",
      "  - MiniWorld-FourRoomsNoTopStartRoomTopLeftSize2Task1-v0\n",
      "  - MiniWorld-FourRoomsNoTopStartRoomTopLeftSize2Task2-v0\n",
      "  - MiniWorld-FourRoomsNoTopStartRoomTopLeftSize3Task1-v0\n",
      "  - MiniWorld-FourRoomsNoTopStartRoomTopLeftSize3Task2-v0\n",
      "  - MiniWorld-FourRoomsNoTopStartRoomTopLeftTask1-v0\n",
      "  - MiniWorld-FourRoomsNoTopStartRoomTopLeftTask2-v0\n",
      "  - MiniWorld-FourRoomsNoTopStartRoomTopLeftTwoTasks-v0\n",
      "  - MiniWorld-FourRoomsNoTopTask1-v0\n",
      "  - MiniWorld-FourRoomsNoTopTask2-v0\n",
      "  - MiniWorld-FourRoomsNoTopTwoTasks-v0\n",
      "  - MiniWorld-FourRoomsSize2Task1-v0\n",
      "  - MiniWorld-FourRoomsSize2Task2-v0\n",
      "  - MiniWorld-FourRoomsSize3Task1-v0\n",
      "  - MiniWorld-FourRoomsSize3Task2-v0\n",
      "  - MiniWorld-FourRoomsSlippery-v0\n",
      "  - MiniWorld-FourRoomsSlippery30Task1-v0\n",
      "  - MiniWorld-FourRoomsSlippery30Task2-v0\n",
      "  - MiniWorld-FourRoomsSlippery45Task1-v0\n",
      "  - MiniWorld-FourRoomsSlippery45Task2-v0\n",
      "  - MiniWorld-FourRoomsSlippery60Task1-v0\n",
      "  - MiniWorld-FourRoomsSlippery60Task2-v0\n",
      "  - MiniWorld-FourRoomsSlipperyActions-v0\n",
      "  - MiniWorld-FourRoomsSlipperyTask1-v0\n",
      "  - MiniWorld-FourRoomsSlipperyTask2-v0\n",
      "  - MiniWorld-FourRoomsSlipperyTwoTasks-v0\n",
      "  - MiniWorld-FourRoomsStartRoomBottomLeft-v0\n",
      "  - MiniWorld-FourRoomsStartRoomBottomLeftActions-v0\n",
      "  - MiniWorld-FourRoomsStartRoomBottomLeftSize2Task1-v0\n",
      "  - MiniWorld-FourRoomsStartRoomBottomLeftSize2Task2-v0\n",
      "  - MiniWorld-FourRoomsStartRoomBottomLeftSize3Task1-v0\n",
      "  - MiniWorld-FourRoomsStartRoomBottomLeftSize3Task2-v0\n",
      "  - MiniWorld-FourRoomsStartRoomBottomLeftTask1-v0\n",
      "  - MiniWorld-FourRoomsStartRoomBottomLeftTask2-v0\n",
      "  - MiniWorld-FourRoomsStartRoomBottomLeftTwoTasks-v0\n",
      "  - MiniWorld-FourRoomsTask1-v0\n",
      "  - MiniWorld-FourRoomsTask2-v0\n",
      "  - MiniWorld-FourRoomsTwoTasks-v0\n",
      "  - MiniWorld-Hallway-v0\n",
      "  - MiniWorld-MyWayHome-v0\n",
      "  - MiniWorld-MyWayHomeCoverage-v0\n",
      "  - MiniWorld-MyWayHomeSparse-v0\n",
      "  - MiniWorld-MyWayHomeVerySparse-v0\n",
      "  - MiniWorld-OneRoom-v0\n",
      "  - MiniWorld-OneRoomS6-v0\n",
      "  - MiniWorld-OneRoomS6Fast-v0\n",
      "  - MiniWorld-TMaze-v0\n",
      "  - MiniWorld-TMazeSameStartPosTask1-v0\n",
      "  - MiniWorld-TMazeSameStartPosTask2-v0\n",
      "  - MiniWorld-TMazeTask1-v0\n",
      "  - MiniWorld-TMazeTask2-v0\n",
      "  - MiniWorld-ThreeRoomsTextured-v0\n",
      "  - MiniWorld-ThreeRoomsTexturedActions-v0\n",
      "  - MiniWorld-ThreeRoomsTexturedTask1-v0\n",
      "  - MiniWorld-ThreeRoomsTexturedTask2-v0\n",
      "  - MiniWorld-ThreeRoomsTexturedTwoTasks-v0\n",
      "  - MiniWorld-TwoRooms-v0\n",
      "  - MiniWorld-TwoRoomsActions-v0\n",
      "  - MiniWorld-TwoRoomsTask1-v0\n",
      "  - MiniWorld-TwoRoomsTwoTasks-v0\n",
      "  - MiniWorld-YMaze-v0\n",
      "  - MiniWorld-YMazeTask1-v0\n",
      "  - MiniWorld-YMazeTask2-v0\n"
     ]
    }
   ],
   "id": "b692216377f2f9f"
  },
  {
   "cell_type": "code",
   "source": [
    "env = gym.make(\"MiniWorld-FourRoomsTask1-v0\", max_episode_steps=5)"
   ],
   "metadata": {
    "colab": {
     "base_uri": "https://localhost:8080/"
    },
    "id": "jofX6Xt7Aee8",
    "outputId": "baa1e56a-0cf7-40cc-c262-ee31e8204e57"
   },
   "execution_count": 20,
   "outputs": [
    {
     "output_type": "stream",
     "name": "stdout",
     "text": [
      "Falling back to num_samples=4\n",
      "Falling back to num_samples=4\n",
      "Loading texture \"/usr/local/lib/python3.11/dist-packages/gym_miniworld/textures/cardboard_1.png\"\n",
      "Loading texture \"/usr/local/lib/python3.11/dist-packages/gym_miniworld/textures/floor_tiles_bw_1.png\"\n",
      "Loading texture \"/usr/local/lib/python3.11/dist-packages/gym_miniworld/textures/concrete_tiles_1.png\"\n",
      "Loading texture \"/usr/local/lib/python3.11/dist-packages/gym_miniworld/textures/marble_1.png\"\n",
      "Loading texture \"/usr/local/lib/python3.11/dist-packages/gym_miniworld/textures/metal_grill_1.png\"\n",
      "Loading texture \"/usr/local/lib/python3.11/dist-packages/gym_miniworld/textures/stucco_1.png\"\n"
     ]
    },
    {
     "output_type": "stream",
     "name": "stderr",
     "text": [
      "/usr/local/lib/python3.11/dist-packages/gym/core.py:317: DeprecationWarning: \u001B[33mWARN: Initializing wrapper in old step API which returns one bool instead of two. It is recommended to set `new_step_api=True` to use new step API. This will be the default behaviour in future.\u001B[0m\n",
      "  deprecation(\n",
      "/usr/local/lib/python3.11/dist-packages/gym/wrappers/step_api_compatibility.py:39: DeprecationWarning: \u001B[33mWARN: Initializing environment in old step API which returns one bool instead of two. It is recommended to set `new_step_api=True` to use new step API. This will be the default behaviour in future.\u001B[0m\n",
      "  deprecation(\n"
     ]
    }
   ],
   "id": "9d83c01f520bbe1c"
  },
  {
   "cell_type": "code",
   "source": [
    "obs = env.reset()\n",
    "for _ in range(5):\n",
    "    obs, reward, done, _ = env.step(env.action_space.sample())\n",
    "    print(\"reward: \", reward)"
   ],
   "metadata": {
    "colab": {
     "base_uri": "https://localhost:8080/"
    },
    "id": "lg08CVytDDDL",
    "outputId": "3cec640e-484b-46c7-dfb2-de9fdcb82d40"
   },
   "execution_count": 27,
   "outputs": [
    {
     "output_type": "stream",
     "name": "stdout",
     "text": [
      "reward:  0\n",
      "reward:  0\n",
      "reward:  0\n",
      "reward:  0\n",
      "reward:  0\n"
     ]
    }
   ],
   "id": "9bc7d9cf3d9aade7"
  },
  {
   "cell_type": "code",
   "source": [],
   "metadata": {
    "id": "eghNPbiQFvxy"
   },
   "execution_count": null,
   "outputs": [],
   "id": "f64add319e327ea3"
  }
 ]
}
